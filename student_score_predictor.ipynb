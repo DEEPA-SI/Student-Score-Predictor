# Import libraries
import pandas as pd
import numpy as np
import matplotlib.pyplot as plt
from sklearn.linear_model import LinearRegression
from sklearn.model_selection import train_test_split
from sklearn.metrics import mean_squared_error, r2_score

# 1. Load the data
data = {
    'Hours': [1, 2, 3, 4.5, 5.5, 6.5, 7, 8, 9, 10],
    'Scores': [35, 40, 50, 55, 65, 70, 75, 85, 90, 95]
}
df = pd.DataFrame(data)

# 2. Visualize the data
plt.scatter(df['Hours'], df['Scores'], color='blue', marker='x')
plt.title('Study Hours vs Exam Score')
plt.xlabel('Hours Studied')
plt.ylabel('Score')
plt.grid(True)
plt.show()

# 3. Prepare the data
X = df[['Hours']]
y = df['Scores']

# Split the data
X_train, X_test, y_train, y_test = train_test_split(X, y, test_size=0.2, random_state=42)

# 4. Train the model
model = LinearRegression()
model.fit(X_train, y_train)

# 5. Make predictions
y_pred = model.predict(X_test)

# 6. Evaluate the model
mse = mean_squared_error(y_test, y_pred)
r2 = r2_score(y_test, y_pred)

print(f"Mean Squared Error: {mse:.2f}")
print(f"R^2 Score: {r2:.2f}")

# 7. Plot the regression line
plt.scatter(X, y, color='blue', marker='x', label='Actual')
plt.plot(X, model.predict(X), color='red', label='Predicted Line')
plt.title('Regression Line: Study Hours vs Exam Score')
plt.xlabel('Hours Studied')
plt.ylabel('Score')
plt.legend()
plt.grid(True)
plt.show()
